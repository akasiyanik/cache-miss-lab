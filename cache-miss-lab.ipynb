{
 "cells": [
  {
   "cell_type": "markdown",
   "metadata": {},
   "source": [
    "# Лабораторная работа  \"Подсчет кэш-промахов\""
   ]
  },
  {
   "cell_type": "markdown",
   "metadata": {},
   "source": [
    "### 1. Определим параметры кэшей CPU c помощью утилиты cpuid:"
   ]
  },
  {
   "cell_type": "markdown",
   "metadata": {},
   "source": [
    "```\n",
    "akasiyanik@akasiyanik-pc:~/Dev/fpmi/cache-miss-lab$ cpuid\n",
    "...\n",
    " cache and TLB information (2):\n",
    "      0xb1: instruction TLB: 2M/4M, 4-way, 4/8 entries\n",
    "      0xb0: instruction TLB: 4K, 4-way, 128 entries\n",
    "      0x05: data TLB: 4M pages, 4-way, 32 entries\n",
    "      0xf0: 64 byte prefetching\n",
    "      0x57: L1 data TLB: 4K pages, 4-way, 16 entries\n",
    "      0x56: L1 data TLB: 4M pages, 4-way, 16 entries\n",
    "      0x7d: L2 cache: 2M, 8-way, sectored, 64 byte lines\n",
    "      0x30: L1 cache: 32K, 8-way, 64 byte lines\n",
    "      0xb4: data TLB: 4K pages, 4-way, 256 entries\n",
    "      0x2c: L1 data cache: 32K, 8-way, 64 byte lines\n",
    "...\n",
    "```"
   ]
  },
  {
   "cell_type": "markdown",
   "metadata": {},
   "source": [
    "### 2. Определим параметры десктопа.\n",
    "Параметры CPU:"
   ]
  },
  {
   "cell_type": "markdown",
   "metadata": {},
   "source": [
    "```akasiyanik@akasiyanik-pc:~$ lscpu\n",
    "Architecture:          x86_64\n",
    "CPU op-mode(s):        32-bit, 64-bit\n",
    "Byte Order:            Little Endian\n",
    "CPU(s):                4\n",
    "On-line CPU(s) list:   0-3\n",
    "Thread(s) per core:    1\n",
    "Core(s) per socket:    4\n",
    "Socket(s):             1\n",
    "NUMA node(s):          1\n",
    "Vendor ID:             GenuineIntel\n",
    "CPU family:            6\n",
    "Model:                 23\n",
    "Model name:            Intel(R) Core(TM)2 Quad CPU    Q8400  @ 2.66GHz\n",
    "Stepping:              10\n",
    "CPU MHz:               2000.000\n",
    "CPU max MHz:           2667.0000\n",
    "CPU min MHz:           2000.0000\n",
    "BogoMIPS:              5332.93\n",
    "Virtualization:        VT-x\n",
    "```\n"
   ]
  },
  {
   "cell_type": "markdown",
   "metadata": {},
   "source": [
    "Общие параметры:\n",
    "![title](./system_info.png)"
   ]
  },
  {
   "cell_type": "markdown",
   "metadata": {
    "collapsed": false
   },
   "source": [
    "### 3. Код анализа количества кэш промахов"
   ]
  },
  {
   "cell_type": "markdown",
   "metadata": {
    "collapsed": true
   },
   "source": [
    "[main.cpp](file/main.cpp)\n",
    "\n",
    "```cpp\n",
    "class Cache {\n",
    "    public:\n",
    "        long long hitCounter = 0;\n",
    "        long long missCounter = 0;\n",
    "\n",
    "        Cache(int cacheLineSize, int channels, int size) : cacheLineSize(cacheLineSize), channels(channels),\n",
    "                                                           size(size) {\n",
    "            totalLinesInCache = size / cacheLineSize;\n",
    "            linesInChannel = totalLinesInCache / channels;\n",
    "\n",
    "            cout << \"cache size \" << size << \" B\" << endl;\n",
    "            cout << \"channels \" << channels << endl;\n",
    "            cout << \"cacheLineSize \" << cacheLineSize << \" B\" << endl;\n",
    "            cout << \"totalLinesInCache \" << totalLinesInCache << endl;\n",
    "            cout << \"linesInChannel \" << linesInChannel << endl;\n",
    "\n",
    "            cache = new long long[totalLinesInCache];\n",
    "            lastAccessTime = new long long[totalLinesInCache];\n",
    "            for (int i = 0; i < totalLinesInCache; i++) {\n",
    "                cache[i] = -1;\n",
    "                lastAccessTime[i] = -1;\n",
    "            }\n",
    "        }\n",
    "\n",
    "        virtual ~Cache() {\n",
    "            delete[] cache;\n",
    "            delete[] lastAccessTime;\n",
    "\n",
    "        }\n",
    "\n",
    "        void access(long long addrInMem) {\n",
    "            long long lineNumberInMem = getCacheLineNumber(addrInMem);\n",
    "            int lineTag = (int) (lineNumberInMem % linesInChannel);\n",
    "\n",
    "            if (isCacheContain(lineTag, lineNumberInMem)) {\n",
    "                hitCounter++;\n",
    "            } else {\n",
    "                missCounter++;\n",
    "                addLineToCache(lineTag, lineNumberInMem);\n",
    "            }\n",
    "            return;\n",
    "        }\n",
    "\n",
    "    private:\n",
    "        int cacheLineSize;\n",
    "        int channels;\n",
    "        int size;\n",
    "\n",
    "        int linesInChannel;\n",
    "        int totalLinesInCache;\n",
    "\n",
    "        long long *cache;\n",
    "        long long *lastAccessTime;\n",
    "\n",
    "        long long getCurrentTimestamp() {\n",
    "            return chrono::system_clock::now().time_since_epoch().count();\n",
    "        }\n",
    "\n",
    "        bool isCacheContain(int cacheLineTag, long long cacheLineNumberInMem) {\n",
    "            for (int i = 0; i < channels; i++) {\n",
    "                long n = cacheLineTag * channels + i;\n",
    "                if (cache[n] == cacheLineNumberInMem) {\n",
    "                    lastAccessTime[n] = getCurrentTimestamp();\n",
    "                    return true;\n",
    "                }\n",
    "            }\n",
    "            return false;\n",
    "        }\n",
    "\n",
    "        void addLineToCache(int cacheLineTag, long long cacheLineNumberInMem) {\n",
    "            long lruLineNum = cacheLineTag * channels;\n",
    "            long minAccessTime = lastAccessTime[lruLineNum];\n",
    "            for (int i = 1; i < channels; i++) {\n",
    "                long n = cacheLineTag * channels + i;\n",
    "                if (lastAccessTime[n] < minAccessTime) {\n",
    "                    minAccessTime = lastAccessTime[n];\n",
    "                    lruLineNum = n;\n",
    "                }\n",
    "            }\n",
    "\n",
    "            cache[lruLineNum] = cacheLineNumberInMem;\n",
    "            lastAccessTime[lruLineNum] = getCurrentTimestamp();\n",
    "        }\n",
    "\n",
    "        long long getCacheLineNumber(long long addrInMem) {\n",
    "            return addrInMem / cacheLineSize;\n",
    "        }\n",
    "    };\n",
    "\n",
    "```"
   ]
  },
  {
   "cell_type": "markdown",
   "metadata": {},
   "source": [
    "### 4. Графики сравнения количества кэш-промахов, предсказанных valgrind и собственным анализатором"
   ]
  },
  {
   "cell_type": "code",
   "execution_count": null,
   "metadata": {
    "collapsed": true
   },
   "outputs": [],
   "source": []
  }
 ],
 "metadata": {
  "anaconda-cloud": {},
  "kernelspec": {
   "display_name": "Python [conda root]",
   "language": "python",
   "name": "conda-root-py"
  },
  "language_info": {
   "codemirror_mode": {
    "name": "ipython",
    "version": 3
   },
   "file_extension": ".py",
   "mimetype": "text/x-python",
   "name": "python",
   "nbconvert_exporter": "python",
   "pygments_lexer": "ipython3",
   "version": "3.5.2"
  }
 },
 "nbformat": 4,
 "nbformat_minor": 1
}
