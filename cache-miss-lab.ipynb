{
 "cells": [
  {
   "cell_type": "markdown",
   "metadata": {},
   "source": [
    "# Лабораторная работа  \"Подсчет кэш-промахов\""
   ]
  },
  {
   "cell_type": "markdown",
   "metadata": {},
   "source": [
    "### 1. Определим параметры кэшей CPU c помощью утилиты cpuinfo_x86:"
   ]
  },
  {
   "cell_type": "markdown",
   "metadata": {},
   "source": [
    "```\n",
    "...\n",
    "# Caches\n",
    "## L1 Instruction Cache\n",
    "Size                  : 32K\n",
    "Line Size             : 64B\n",
    "Sharing               : shared between 2 processor threads\n",
    "Sets                  : 64\n",
    "Partitions            : 1\n",
    "Associativity         : 8\n",
    "\n",
    "## L1 Data Cache\n",
    "Size                  : 32K\n",
    "Line Size             : 64B\n",
    "Sharing               : shared between 2 processor threads\n",
    "Sets                  : 64\n",
    "Partitions            : 1\n",
    "Associativity         : 8\n",
    "\n",
    "## L2 Unified Cache\n",
    "Size                  : 256K\n",
    "Line Size             : 64B\n",
    "Sharing               : shared between 2 processor threads\n",
    "Sets                  : 512\n",
    "Partitions            : 1\n",
    "Associativity         : 8\n",
    "\n",
    "## L3 Unified Cache\n",
    "Size                  : 3M\n",
    "Line Size             : 64B\n",
    "Sharing               : shared between 16 processor threads\n",
    "Sets                  : 4096\n",
    "Partitions            : 1\n",
    "Associativity         : 12\n",
    "...\n",
    "```"
   ]
  },
  {
   "cell_type": "markdown",
   "metadata": {},
   "source": [
    "### 2. Определим параметры десктопа.\n",
    "Параметры CPU:"
   ]
  },
  {
   "cell_type": "markdown",
   "metadata": {},
   "source": [
    "``` \n",
    "# Identification\n",
    "Vendor                : GenuineIntel\n",
    "Brand String          : Intel(R) Core(TM) i5-4258U CPU @ 2.40GHz\n",
    "Model Number          : 69\n",
    "Family Code           : 6\n",
    "Extended Model        : 4\n",
    "Extended Family       : 0\n",
    "Stepping ID           : 1\n",
    "Signature             : 263761\n",
    "\n",
    "# Address Bits\n",
    "Physical Addressing   : 39\n",
    "Virtual Addressing    : 48\n",
    "\n",
    "# Multi-Core Information\n",
    "Logical Processors (Threads) per Physical Processor : 16\n",
    "Cores per Physical Package                          : 8\n",
    "```\n"
   ]
  },
  {
   "cell_type": "markdown",
   "metadata": {},
   "source": [
    "Общие параметры:"
   ]
  },
  {
   "cell_type": "markdown",
   "metadata": {},
   "source": [
    "![title](system_info_mac.png)"
   ]
  },
  {
   "cell_type": "markdown",
   "metadata": {
    "collapsed": false
   },
   "source": [
    "### 3. Код анализа количества кэш промахов"
   ]
  },
  {
   "cell_type": "markdown",
   "metadata": {
    "collapsed": true
   },
   "source": [
    "[main.cpp](file/main.cpp)\n",
    "\n",
    "```cpp\n",
    "class Cache {\n",
    "    public:\n",
    "        long long hitCounter = 0;\n",
    "        long long missCounter = 0;\n",
    "\n",
    "        Cache(int cacheLineSize, int channels, int size) : cacheLineSize(cacheLineSize), channels(channels),\n",
    "                                                           size(size) {\n",
    "            totalLinesInCache = size / cacheLineSize;\n",
    "            linesInChannel = totalLinesInCache / channels;\n",
    "\n",
    "            cout << \"cache size \" << size << \" B\" << endl;\n",
    "            cout << \"channels \" << channels << endl;\n",
    "            cout << \"cacheLineSize \" << cacheLineSize << \" B\" << endl;\n",
    "            cout << \"totalLinesInCache \" << totalLinesInCache << endl;\n",
    "            cout << \"linesInChannel \" << linesInChannel << endl;\n",
    "\n",
    "            cache = new long long[totalLinesInCache];\n",
    "            lastAccessTime = new long long[totalLinesInCache];\n",
    "            for (int i = 0; i < totalLinesInCache; i++) {\n",
    "                cache[i] = -1;\n",
    "                lastAccessTime[i] = -1;\n",
    "            }\n",
    "        }\n",
    "\n",
    "        virtual ~Cache() {\n",
    "            delete[] cache;\n",
    "            delete[] lastAccessTime;\n",
    "\n",
    "        }\n",
    "\n",
    "        void access(long long addrInMem) {\n",
    "            long long lineNumberInMem = getCacheLineNumber(addrInMem);\n",
    "            int lineTag = (int) (lineNumberInMem % linesInChannel);\n",
    "\n",
    "            if (isCacheContain(lineTag, lineNumberInMem)) {\n",
    "                hitCounter++;\n",
    "            } else {\n",
    "                missCounter++;\n",
    "                addLineToCache(lineTag, lineNumberInMem);\n",
    "            }\n",
    "            return;\n",
    "        }\n",
    "\n",
    "    private:\n",
    "        int cacheLineSize;\n",
    "        int channels;\n",
    "        int size;\n",
    "\n",
    "        int linesInChannel;\n",
    "        int totalLinesInCache;\n",
    "\n",
    "        long long *cache;\n",
    "        long long *lastAccessTime;\n",
    "\n",
    "        long long getCurrentTimestamp() {\n",
    "            return chrono::system_clock::now().time_since_epoch().count();\n",
    "        }\n",
    "\n",
    "        bool isCacheContain(int cacheLineTag, long long cacheLineNumberInMem) {\n",
    "            for (int i = 0; i < channels; i++) {\n",
    "                long n = cacheLineTag * channels + i;\n",
    "                if (cache[n] == cacheLineNumberInMem) {\n",
    "                    lastAccessTime[n] = getCurrentTimestamp();\n",
    "                    return true;\n",
    "                }\n",
    "            }\n",
    "            return false;\n",
    "        }\n",
    "\n",
    "        void addLineToCache(int cacheLineTag, long long cacheLineNumberInMem) {\n",
    "            long lruLineNum = cacheLineTag * channels;\n",
    "            long minAccessTime = lastAccessTime[lruLineNum];\n",
    "            for (int i = 1; i < channels; i++) {\n",
    "                long n = cacheLineTag * channels + i;\n",
    "                if (lastAccessTime[n] < minAccessTime) {\n",
    "                    minAccessTime = lastAccessTime[n];\n",
    "                    lruLineNum = n;\n",
    "                }\n",
    "            }\n",
    "\n",
    "            cache[lruLineNum] = cacheLineNumberInMem;\n",
    "            lastAccessTime[lruLineNum] = getCurrentTimestamp();\n",
    "        }\n",
    "\n",
    "        long long getCacheLineNumber(long long addrInMem) {\n",
    "            return addrInMem / cacheLineSize;\n",
    "        }\n",
    "    };\n",
    "\n",
    "```"
   ]
  },
  {
   "cell_type": "markdown",
   "metadata": {},
   "source": [
    "### 4. Графики сравнения количества кэш-промахов, предсказанных valgrind и собственным анализатором"
   ]
  },
  {
   "cell_type": "code",
   "execution_count": null,
   "metadata": {
    "collapsed": true
   },
   "outputs": [],
   "source": []
  }
 ],
 "metadata": {
  "anaconda-cloud": {},
  "kernelspec": {
   "display_name": "Python [Root]",
   "language": "python",
   "name": "Python [Root]"
  },
  "language_info": {
   "codemirror_mode": {
    "name": "ipython",
    "version": 3
   },
   "file_extension": ".py",
   "mimetype": "text/x-python",
   "name": "python",
   "nbconvert_exporter": "python",
   "pygments_lexer": "ipython3",
   "version": "3.5.2"
  }
 },
 "nbformat": 4,
 "nbformat_minor": 1
}
