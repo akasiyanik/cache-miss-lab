{
 "cells": [
  {
   "cell_type": "markdown",
   "metadata": {},
   "source": [
    "# Лабораторная работа  \"Подсчет кэш-промахов\""
   ]
  },
  {
   "cell_type": "markdown",
   "metadata": {},
   "source": [
    "### 1. Определим параметры кэшей CPU c помощью утилиты cpuinfo_x86:"
   ]
  },
  {
   "cell_type": "markdown",
   "metadata": {},
   "source": [
    "```\n",
    "...\n",
    "# Caches\n",
    "## L1 Instruction Cache\n",
    "Size                  : 32K\n",
    "Line Size             : 64B\n",
    "Sharing               : shared between 2 processor threads\n",
    "Sets                  : 64\n",
    "Partitions            : 1\n",
    "Associativity         : 8\n",
    "\n",
    "## L1 Data Cache\n",
    "Size                  : 32K\n",
    "Line Size             : 64B\n",
    "Sharing               : shared between 2 processor threads\n",
    "Sets                  : 64\n",
    "Partitions            : 1\n",
    "Associativity         : 8\n",
    "\n",
    "## L2 Unified Cache\n",
    "Size                  : 256K\n",
    "Line Size             : 64B\n",
    "Sharing               : shared between 2 processor threads\n",
    "Sets                  : 512\n",
    "Partitions            : 1\n",
    "Associativity         : 8\n",
    "\n",
    "## L3 Unified Cache\n",
    "Size                  : 3M\n",
    "Line Size             : 64B\n",
    "Sharing               : shared between 16 processor threads\n",
    "Sets                  : 4096\n",
    "Partitions            : 1\n",
    "Associativity         : 12\n",
    "...\n",
    "```"
   ]
  },
  {
   "cell_type": "markdown",
   "metadata": {},
   "source": [
    "### 2. Определим параметры десктопа.\n",
    "Параметры CPU:"
   ]
  },
  {
   "cell_type": "markdown",
   "metadata": {},
   "source": [
    "``` \n",
    "# Identification\n",
    "Vendor                : GenuineIntel\n",
    "Brand String          : Intel(R) Core(TM) i5-4258U CPU @ 2.40GHz\n",
    "Model Number          : 69\n",
    "Family Code           : 6\n",
    "Extended Model        : 4\n",
    "Extended Family       : 0\n",
    "Stepping ID           : 1\n",
    "Signature             : 263761\n",
    "\n",
    "# Address Bits\n",
    "Physical Addressing   : 39\n",
    "Virtual Addressing    : 48\n",
    "\n",
    "# Multi-Core Information\n",
    "Logical Processors (Threads) per Physical Processor : 16\n",
    "Cores per Physical Package                          : 8\n",
    "```\n"
   ]
  },
  {
   "cell_type": "markdown",
   "metadata": {},
   "source": [
    "Общие параметры:"
   ]
  },
  {
   "cell_type": "markdown",
   "metadata": {},
   "source": [
    "<img src=\"https://raw.githubusercontent.com/aliaksei-kasiyanik/cache-miss-lab/master/img/system_info_mac.png\" width=\"600\">"
   ]
  },
  {
   "cell_type": "markdown",
   "metadata": {
    "collapsed": false
   },
   "source": [
    "### 3. Код анализа количества кэш промахов"
   ]
  },
  {
   "cell_type": "markdown",
   "metadata": {
    "collapsed": true
   },
   "source": [
    "[main.cpp](src/main.cpp)\n",
    "\n",
    "```cpp\n",
    "class Cache {\n",
    "    public:\n",
    "        long long hitCounter = 0;\n",
    "        long long missCounter = 0;\n",
    "\n",
    "        Cache(int cacheLineSize, int channels, int size) : cacheLineSize(cacheLineSize), channels(channels),\n",
    "                                                           size(size) {\n",
    "            totalLinesInCache = size / cacheLineSize;\n",
    "            linesInChannel = totalLinesInCache / channels;\n",
    "\n",
    "            cout << \"cache size \" << size << \" B\" << endl;\n",
    "            cout << \"channels \" << channels << endl;\n",
    "            cout << \"cacheLineSize \" << cacheLineSize << \" B\" << endl;\n",
    "            cout << \"totalLinesInCache \" << totalLinesInCache << endl;\n",
    "            cout << \"linesInChannel \" << linesInChannel << endl;\n",
    "\n",
    "            cache = new long long[totalLinesInCache];\n",
    "            lastAccessTime = new long long[totalLinesInCache];\n",
    "            for (int i = 0; i < totalLinesInCache; i++) {\n",
    "                cache[i] = -1;\n",
    "                lastAccessTime[i] = -1;\n",
    "            }\n",
    "        }\n",
    "\n",
    "        virtual ~Cache() {\n",
    "            delete[] cache;\n",
    "            delete[] lastAccessTime;\n",
    "\n",
    "        }\n",
    "\n",
    "        void access(long long addrInMem) {\n",
    "            long long lineNumberInMem = getCacheLineNumber(addrInMem);\n",
    "            int lineTag = (int) (lineNumberInMem % linesInChannel);\n",
    "\n",
    "            if (isCacheContain(lineTag, lineNumberInMem)) {\n",
    "                hitCounter++;\n",
    "            } else {\n",
    "                missCounter++;\n",
    "                addLineToCache(lineTag, lineNumberInMem);\n",
    "            }\n",
    "            return;\n",
    "        }\n",
    "\n",
    "    private:\n",
    "        int cacheLineSize;\n",
    "        int channels;\n",
    "        int size;\n",
    "\n",
    "        int linesInChannel;\n",
    "        int totalLinesInCache;\n",
    "\n",
    "        long long *cache;\n",
    "        long long *lastAccessTime;\n",
    "\n",
    "        long long getCurrentTimestamp() {\n",
    "            return chrono::system_clock::now().time_since_epoch().count();\n",
    "        }\n",
    "\n",
    "        bool isCacheContain(int cacheLineTag, long long cacheLineNumberInMem) {\n",
    "            for (int i = 0; i < channels; i++) {\n",
    "                long n = cacheLineTag * channels + i;\n",
    "                if (cache[n] == cacheLineNumberInMem) {\n",
    "                    lastAccessTime[n] = getCurrentTimestamp();\n",
    "                    return true;\n",
    "                }\n",
    "            }\n",
    "            return false;\n",
    "        }\n",
    "\n",
    "        void addLineToCache(int cacheLineTag, long long cacheLineNumberInMem) {\n",
    "            long lruLineNum = cacheLineTag * channels;\n",
    "            long minAccessTime = lastAccessTime[lruLineNum];\n",
    "            for (int i = 1; i < channels; i++) {\n",
    "                long n = cacheLineTag * channels + i;\n",
    "                if (lastAccessTime[n] < minAccessTime) {\n",
    "                    minAccessTime = lastAccessTime[n];\n",
    "                    lruLineNum = n;\n",
    "                }\n",
    "            }\n",
    "\n",
    "            cache[lruLineNum] = cacheLineNumberInMem;\n",
    "            lastAccessTime[lruLineNum] = getCurrentTimestamp();\n",
    "        }\n",
    "\n",
    "        long long getCacheLineNumber(long long addrInMem) {\n",
    "            return addrInMem / cacheLineSize;\n",
    "        }\n",
    "    };\n",
    "\n",
    "```"
   ]
  },
  {
   "cell_type": "markdown",
   "metadata": {},
   "source": [
    "### 4. Графики сравнения количества кэш-промахов, предсказанных valgrind и собственным анализатором"
   ]
  },
  {
   "cell_type": "code",
   "execution_count": 1,
   "metadata": {
    "collapsed": true
   },
   "outputs": [],
   "source": [
    "import matplotlib.pyplot as plt\n",
    "%matplotlib inline"
   ]
  },
  {
   "cell_type": "code",
   "execution_count": 77,
   "metadata": {
    "collapsed": false
   },
   "outputs": [],
   "source": [
    "def parse_valgrind_results(path):\n",
    "    def _retrieve_refs_metric(str_line):\n",
    "        return int(str_line.split()[4][1:].replace(\",\", \"\"))\n",
    "    \n",
    "    def _retrieve_misses_metric(str_line):\n",
    "        return int(str_line.split()[5].replace(\",\", \"\"))\n",
    "    \n",
    "    def _retrieve_miss_rate(str_line):\n",
    "        return float(str_line.split()[6].replace(\"%\", \"\"))\n",
    "\n",
    "\n",
    "    result = {}\n",
    "    metrics = {}\n",
    "    n = 0\n",
    "\n",
    "    for line in open(path):\n",
    "        if line.startswith(\"n =\"):\n",
    "            n = int(line[3:].strip())\n",
    "        elif \"D\" in line and \"refs\" in line:\n",
    "            metrics[\"refs\"] = _retrieve_refs_metric(line)\n",
    "        elif \"D1\" in line and \"misses\" in line:\n",
    "            metrics[\"misses\"] = _retrieve_misses_metric(line)    \n",
    "        elif \"D1\" in line and \"miss rate\" in line:\n",
    "            metrics[\"rate\"] = _retrieve_miss_rate(line)\n",
    "            result[n] = metrics\n",
    "            metrics = {}\n",
    "            \n",
    "    return result\n",
    "\n",
    "\n",
    "def parse_my_results(path):\n",
    "    def _retrieve_refs_metric(str_line):\n",
    "        return int(str_line.split()[4][1:].replace(\",\", \"\"))\n",
    "    \n",
    "    def _retrieve_misses_metric(str_line):\n",
    "        return int(str_line.split()[5].replace(\",\", \"\"))\n",
    "    \n",
    "    def _retrieve_miss_rate(str_line):\n",
    "        return float(str_line.split()[6].replace(\"%\", \"\"))\n",
    "\n",
    "\n",
    "    result = {}\n",
    "    metrics = {}\n",
    "    n = 0\n",
    "\n",
    "    for line in open(path):\n",
    "        if line.startswith(\"n =\"):\n",
    "            n = int(line[3:].strip())\n",
    "        elif line.startswith(\"TOTAL\"):\n",
    "            metrics[\"refs\"] = int(line.split()[1].strip())\n",
    "        elif line.startswith(\"MISS %\"):\n",
    "            metrics[\"rate\"] = float(line.split()[2].strip())\n",
    "            result[n] = metrics\n",
    "            metrics = {}\n",
    "        elif line.startswith(\"MISS\"):\n",
    "            metrics[\"misses\"] =  int(line.split()[1].strip())\n",
    "            \n",
    "    return result"
   ]
  },
  {
   "cell_type": "code",
   "execution_count": 71,
   "metadata": {
    "collapsed": false
   },
   "outputs": [],
   "source": [
    "result = parse_valgrind_results(\"../log.txt\")\n",
    "keys = sorted(list(result.keys()))\n",
    "misses = [result[key][\"misses\"] for key in keys]"
   ]
  },
  {
   "cell_type": "code",
   "execution_count": 78,
   "metadata": {
    "collapsed": false
   },
   "outputs": [],
   "source": [
    "def generate_plot(valgrind_res, my_res, metric):\n",
    "    keys = sorted(list(valgrind_res.keys()))\n",
    "    \n",
    "    valgr_values = [valgrind_res[key][metric] for key in keys]\n",
    "    my_values = [my_res[key][metric] for key in keys]\n",
    "    \n",
    "    ax = plt.figure().add_subplot(111)\n",
    "  \n",
    "    ax.plot(keys, valgr_values, label=\"valgr\", color=\"red\")\n",
    "    ax.plot(keys, my_values, label=\"my\", color=\"blue\")\n",
    "    \n",
    "    ax.legend([\"valgr\", \"my\"], loc='upper left')\n",
    "\n",
    "#     first_key = next(iter(data.keys()))\n",
    "#     ticks = sorted(list(data[first_key].keys()))\n",
    "\n",
    "    ax.set_title(metric);\n",
    "    plt.tick_params(axis='both', labelsize=8)\n",
    "#     plt.xticks(ticks, rotation='vertical')\n",
    "    plt.xlabel('n')\n",
    "    plt.ylabel('time, s')\n",
    "    plt.grid(True)\n",
    "    plt.show()"
   ]
  },
  {
   "cell_type": "code",
   "execution_count": 76,
   "metadata": {
    "collapsed": false
   },
   "outputs": [
    {
     "data": {
      "image/png": "[encoded data removed]",
      "text/plain": [
       "<matplotlib.figure.Figure at 0x7f91686ce588>"
      ]
     },
     "metadata": {},
     "output_type": "display_data"
    }
   ],
   "source": [
    "generate_plot(keys, misses)"
   ]
  },
  {
   "cell_type": "code",
   "execution_count": null,
   "metadata": {
    "collapsed": true
   },
   "outputs": [],
   "source": []
  }
 ],
 "metadata": {
  "anaconda-cloud": {},
  "kernelspec": {
   "display_name": "Python [default]",
   "language": "python",
   "name": "python3"
  },
  "language_info": {
   "codemirror_mode": {
    "name": "ipython",
    "version": 3
   },
   "file_extension": ".py",
   "mimetype": "text/x-python",
   "name": "python",
   "nbconvert_exporter": "python",
   "pygments_lexer": "ipython3",
   "version": "3.5.2"
  }
 },
 "nbformat": 4,
 "nbformat_minor": 1
}
